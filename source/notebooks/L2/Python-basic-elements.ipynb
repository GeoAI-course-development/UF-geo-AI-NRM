{
 "cells": [
  {
   "cell_type": "markdown",
   "metadata": {},
   "source": [
    "# Basic elements of Python\n",
    "\n",
    "```{attention}\n",
    "Finnish university students are encouraged to use the CSC Noppe platform.<br/>\n",
    "<a href=\"https://noppe.csc.fi/\"><img alt=\"CSC badge\" src=\"https://img.shields.io/badge/launch-CSC%20Noppe-blue.svg\" style=\"vertical-align:text-bottom\"></a>\n",
    "\n",
    "Others can follow the lesson and fill in their student notebooks using Binder. Binder can be launched using the interactive code tools (rocket icon) on the lesson page linked below.\n",
    "```\n",
    "\n",
    "In this lesson we will learn how data can be stored in Python lists, some useful ways of using and modifying Python lists, and how to make different data types work together in Python.\n",
    "\n",
    "## Lesson materials\n",
    "\n",
    "Materials for this lesson are from Chapter 2 of the forthcoming textbook [*Introduction to Python for Geographic Data Analysis*](https://python-gis-book.readthedocs.io/en/latest/index.html). In this lesson we cover the [materials in the second half of Chapter 2.1](https://python-gis-book.readthedocs.io/en/latest/part1/chapter-02/nb/00-python-basics.html#lists-and-indices) starting from the section about Python lists."
   ]
  }
 ],
 "metadata": {
  "kernelspec": {
   "display_name": "Python 3 (ipykernel)",
   "language": "python",
   "name": "python3"
  },
  "language_info": {
   "codemirror_mode": {
    "name": "ipython",
    "version": 3
   },
   "file_extension": ".py",
   "mimetype": "text/x-python",
   "name": "python",
   "nbconvert_exporter": "python",
   "pygments_lexer": "ipython3",
   "version": "3.11.6"
  }
 },
 "nbformat": 4,
 "nbformat_minor": 4
}
