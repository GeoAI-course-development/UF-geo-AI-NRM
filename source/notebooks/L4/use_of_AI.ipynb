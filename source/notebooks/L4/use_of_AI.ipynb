{
 "cells": [
  {
   "cell_type": "markdown",
   "id": "5c3091b6-2f2d-400d-89bf-bfa33e4f5179",
   "metadata": {
    "tags": []
   },
   "source": [
    "# Use of AI in programming with Python\n",
    "\n",
    "```{attention}\n",
    "Finnish university students are encouraged to use the CSC Notebooks platform.<br/>\n",
    "<a href=\"https://notebooks.csc.fi/\"><img alt=\"CSC badge\" src=\"https://img.shields.io/badge/launch-CSC%20notebook-blue.svg\" style=\"vertical-align:text-bottom\"></a>\n",
    "\n",
    "Others can follow the lesson and fill in their student notebooks using Binder.<br/>\n",
    "<a href=\"https://mybinder.org/v2/gh/geo-python/notebooks/master?urlpath=lab/tree/L4/functions.ipynb\"><img alt=\"Binder badge\" src=\"https://img.shields.io/badge/launch-binder-red.svg\" style=\"vertical-align:text-bottom\"></a>\n",
    "```\n",
    "\n",
    "In this lesson we introduce functions as a way of making blocks of code for a specific task that are easy to use and re-use in your programs.\n",
    "\n",
    "## Sources\n",
    "\n",
    "ChatGPT (C), OpenAI (C)\n"
   ]
  },
  {
   "cell_type": "markdown",
   "id": "6a98bb3d-9490-4183-bac9-10532463580a",
   "metadata": {},
   "source": [
    "# AI and LLM\n",
    "\n",
    "\n",
    "AI, or Artificial Intelligence, refers to the field of computer science dedicated to developing systems and algorithms that enable machines to perform tasks typically requiring human intelligence, such as problem-solving, learning, and natural language understanding. On the other hand, LLM, or Large Language Model, is a specific category of AI models designed to process and generate human language text. ChatGPT (Chat Generative Pre-trained Transformer) is one common example of an LLM, created by [OpenAI](https://openai.com/), which excels in understanding and generating human-like text, making it useful for tasks like chatbots, virtual assistants, and content generation."
   ]
  },
  {
   "cell_type": "markdown",
   "id": "3d54e6f1-edcd-48c6-8def-4ec22914e0cc",
   "metadata": {},
   "source": [
    "# Getting started with ChatGPT\n",
    "\n",
    "\n",
    "In order to use ChatGPT, you need to have an account on OpenAI. If you already have an account, go ahead and login using your account. If you are new to OpenAI, you can create a new account for free. Click on the \"Get Started\" button to go to the SignUp page. Here you can create account using your email or by linking it your other accounts (such as Google). In order to sign up, you need to provide your email address, mobile phone, number, and date of birth.\n",
    "\n",
    "![ChatGPT_signUp.](img/chatgpt_signup.png)\n",
    "\n",
    "Once you have created you account and activated it, you can login to access [ChatGPT](https://chat.openai.com/).\n",
    "\n",
    "\n"
   ]
  },
  {
   "cell_type": "markdown",
   "id": "e9d8c2a2-aa06-4aed-a85b-6f2db9e64d77",
   "metadata": {},
   "source": [
    "# Using ChatGPT\n",
    "\n",
    "\n",
    "You can communicate with ChatGPT using the Prompt window at the bottom of the page (\"Send a message\").   \n",
    "\n",
    "![ChatGPT.](img/chatgpt.png)\n",
    "\n",
    "A prompt is a specific instruction, query, or input provided to a computer program or artificial intelligence system to elicit a desired response or output. In the context of language models like ChatGPT, a prompt typically consists of a text-based request or question that users provide to the model. The model generates a response based on the content and context of the prompt. Prompts are used to interact with AI systems, instruct them on what task to perform, or seek information or assistance from them. The quality and clarity of the prompt can significantly impact the accuracy and relevance of the AI's response.\n",
    "\n",
    "Prompt: \"Please write a Python function that adds two numbers.\"\n",
    "\n",
    "Response:"
   ]
  },
  {
   "cell_type": "code",
   "execution_count": null,
   "id": "b708e8f8-2f21-4712-bd08-76d1bd913aa9",
   "metadata": {},
   "outputs": [],
   "source": [
    "def add_numbers(a, b):\n",
    "    return a + b"
   ]
  },
  {
   "cell_type": "markdown",
   "id": "f840f754-7ab0-449d-b4b4-11885eb6904e",
   "metadata": {},
   "source": [
    "ChatGPT remembers your conversation (i.e., history of prompts). So you can ask it to modify a previously provided response for you:  \n",
    "Prompt: \"Give me an example of using the output of this function in a f string\"\n",
    "\n",
    "And here is the output:"
   ]
  },
  {
   "cell_type": "code",
   "execution_count": null,
   "id": "7503b792-25af-4d21-ac55-6b2e0abfa1bf",
   "metadata": {},
   "outputs": [],
   "source": [
    "def add_numbers(a, b):\n",
    "\n",
    "    return a + b\n",
    "\n",
    "num1 = 5\n",
    "num2 = 3\n",
    "result = add_numbers(num1, num2)\n",
    "\n",
    "# Using an f-string to format the output\n",
    "formatted_string = f\"The sum of {num1} and {num2} is {result}.\"\n",
    "print(formatted_string)\n"
   ]
  },
  {
   "cell_type": "markdown",
   "id": "0bb41ac9-9bc6-45c8-8cd6-c2ed071b7b5d",
   "metadata": {},
   "source": [
    "New prompt: \"Add inline comments to the code\"\n",
    "\n",
    "And here is the new output:"
   ]
  },
  {
   "cell_type": "code",
   "execution_count": null,
   "id": "728718f4-41a5-4c1a-904a-4667383bbbf1",
   "metadata": {},
   "outputs": [],
   "source": [
    "# Define a function that takes two numbers as input and returns their sum.\n",
    "def add_numbers(a, b):\n",
    "    \"\"\"\n",
    "    This function takes two numbers as input and returns their sum.\n",
    "    \n",
    "    :param a: The first number to be added.\n",
    "    :param b: The second number to be added.\n",
    "    :return: The sum of the two input numbers.\n",
    "    \"\"\"\n",
    "    return a + b\n",
    "\n",
    "# Define two numbers to be added.\n",
    "num1 = 5\n",
    "num2 = 3\n",
    "\n",
    "# Call the add_numbers function and store the result in the 'result' variable.\n",
    "result = add_numbers(num1, num2)\n",
    "\n",
    "# Using an f-string to format the output and include variable values.\n",
    "formatted_string = f\"The sum of {num1} and {num2} is {result}.\"\n",
    "\n",
    "# Print the formatted string.\n",
    "print(formatted_string)"
   ]
  },
  {
   "cell_type": "markdown",
   "id": "55efa290-2d29-42c4-9735-a0c653613996",
   "metadata": {},
   "source": [
    "```{attention}\n",
    "\n",
    "   The same prompt can yield different responses from ChatGPT due to factors such as randomness in word selection, variations in model versions and training data, contextual influences from preceding dialogue, ambiguity in prompts, temperature settings, response length parameters, and the model's exposure to diverse internet text. Additionally, fine-tuning for specific tasks, user feedback, and evolving preferences can all contribute to the diversity of generated responses.\n",
    "   \n",
    "```"
   ]
  },
  {
   "cell_type": "markdown",
   "id": "1879955f-0bbf-4c2c-b1ee-f55d36191ccd",
   "metadata": {},
   "source": [
    "Here is another example of a prompt:\"Write me a python function that converts degrees Fahrenheit to Celsius. Test the function and print the result using a f string.\"\n",
    "\n",
    "and here is ChatGPT's output:"
   ]
  },
  {
   "cell_type": "code",
   "execution_count": 2,
   "id": "0f02864f-2606-425b-813b-a42e520fe11b",
   "metadata": {
    "tags": []
   },
   "outputs": [
    {
     "name": "stdout",
     "output_type": "stream",
     "text": [
      "68 degrees Fahrenheit is equal to 20.00 degrees Celsius.\n"
     ]
    }
   ],
   "source": [
    "def fahrenheit_to_celsius(fahrenheit):\n",
    "    \"\"\"\n",
    "    Converts a temperature from degrees Fahrenheit to degrees Celsius.\n",
    "\n",
    "    :param fahrenheit: Temperature in degrees Fahrenheit\n",
    "    :return: Temperature in degrees Celsius\n",
    "    \"\"\"\n",
    "    celsius = (fahrenheit - 32) * 5/9\n",
    "    return celsius\n",
    "\n",
    "# Test the function with a Fahrenheit temperature\n",
    "fahrenheit_temperature = 68  # Change this to the desired Fahrenheit temperature\n",
    "celsius_temperature = fahrenheit_to_celsius(fahrenheit_temperature)\n",
    "\n",
    "# Print the result using an f-string\n",
    "print(f\"{fahrenheit_temperature} degrees Fahrenheit is equal to {celsius_temperature:.2f} degrees Celsius.\")"
   ]
  },
  {
   "cell_type": "markdown",
   "id": "28f59c67-6803-43f1-8b3c-691eb4ac3f3e",
   "metadata": {},
   "source": [
    "# Bad prompts\n",
    "\n",
    "Remember that you are talking with a machine in your prompts. So it is very important for you to provide prompts which are **clear** and have **clear objectives**. In your prompts, try to provide as much **context** and **instructions** as possible.\n",
    "\n",
    "Here's an example of a bad prompt:\n",
    "\n",
    "\"A function to convert Kelvin to Newton\""
   ]
  },
  {
   "cell_type": "code",
   "execution_count": null,
   "id": "2f05b1a8-7a29-40ad-b338-47744c04c279",
   "metadata": {},
   "outputs": [],
   "source": [
    "def kelvin_to_newton(mass_kg, acceleration_m_s2):\n",
    "    force_newton = mass_kg * acceleration_m_s2\n",
    "    return force_newton"
   ]
  },
  {
   "cell_type": "markdown",
   "id": "cdb4cbc6-f335-44db-a402-07d544db6019",
   "metadata": {},
   "source": [
    "Let's write this better:\n",
    "\n",
    "Prompt: \"A function to convert temprature Kelvin to Newton\""
   ]
  },
  {
   "cell_type": "code",
   "execution_count": null,
   "id": "bb0f7e8d-f307-44fd-895c-881d7cb75bb6",
   "metadata": {},
   "outputs": [],
   "source": [
    "def kelvin_to_newton(kelvin_temperature):\n",
    "    newton_temperature = kelvin_temperature * 0.33\n",
    "    return newton_temperature"
   ]
  },
  {
   "cell_type": "markdown",
   "id": "8577b2da-1a5f-4955-8b7c-29d059d4f862",
   "metadata": {},
   "source": [
    "Now you want to use this function to convert a list of tempratures in Kelvin to Newton:"
   ]
  },
  {
   "cell_type": "code",
   "execution_count": 7,
   "id": "89a049c5-878d-49cb-90e4-fc3a6f0bb766",
   "metadata": {
    "tags": []
   },
   "outputs": [
    {
     "ename": "TypeError",
     "evalue": "can't multiply sequence by non-int of type 'float'",
     "output_type": "error",
     "traceback": [
      "\u001B[1;31m---------------------------------------------------------------------------\u001B[0m",
      "\u001B[1;31mTypeError\u001B[0m                                 Traceback (most recent call last)",
      "Cell \u001B[1;32mIn[7], line 2\u001B[0m\n\u001B[0;32m      1\u001B[0m kelvin_temperatures \u001B[38;5;241m=\u001B[39m [\u001B[38;5;241m100\u001B[39m, \u001B[38;5;241m200\u001B[39m, \u001B[38;5;241m300\u001B[39m, \u001B[38;5;241m400\u001B[39m, \u001B[38;5;241m500\u001B[39m]\n\u001B[1;32m----> 2\u001B[0m \u001B[38;5;28mprint\u001B[39m (\u001B[43mkelvin_to_newton\u001B[49m\u001B[43m(\u001B[49m\u001B[43mkelvin_temperatures\u001B[49m\u001B[43m)\u001B[49m)\n",
      "Cell \u001B[1;32mIn[4], line 2\u001B[0m, in \u001B[0;36mkelvin_to_newton\u001B[1;34m(temperature_k)\u001B[0m\n\u001B[0;32m      1\u001B[0m \u001B[38;5;28;01mdef\u001B[39;00m \u001B[38;5;21mkelvin_to_newton\u001B[39m(temperature_k):\n\u001B[1;32m----> 2\u001B[0m     \u001B[38;5;28;01mreturn\u001B[39;00m \u001B[43mtemperature_k\u001B[49m\u001B[43m \u001B[49m\u001B[38;5;241;43m*\u001B[39;49m\u001B[43m \u001B[49m\u001B[38;5;241;43m0.33\u001B[39;49m\n",
      "\u001B[1;31mTypeError\u001B[0m: can't multiply sequence by non-int of type 'float'"
     ]
    }
   ],
   "source": [
    "kelvin_temperatures = [100, 200, 300, 400, 500]\n",
    "print (kelvin_to_newton(kelvin_temperatures))"
   ]
  },
  {
   "cell_type": "markdown",
   "id": "098a00df-8e1b-4e50-89c2-ccd652e0c0c8",
   "metadata": {
    "tags": []
   },
   "source": [
    "This results in an error as the function is not meant to receive a list as input. We can write this prompy better:\n",
    "\n",
    "Prompt: \"Give me a python function to convert temperature in degrees Kelvin to Newton and print out test results\""
   ]
  },
  {
   "cell_type": "code",
   "execution_count": 4,
   "id": "32e76ad0-e522-4d22-bec0-8af742e1a713",
   "metadata": {
    "tags": []
   },
   "outputs": [
    {
     "name": "stdout",
     "output_type": "stream",
     "text": [
      "Kelvin to Newton Conversion:\n",
      "100 K is equal to 33.00 N\n",
      "200 K is equal to 66.00 N\n",
      "300 K is equal to 99.00 N\n",
      "400 K is equal to 132.00 N\n",
      "500 K is equal to 165.00 N\n"
     ]
    }
   ],
   "source": [
    "def kelvin_to_newton(temperature_k):\n",
    "    return temperature_k * 0.33\n",
    "\n",
    "def convert_and_print_temperatures(kelvin_temperatures):\n",
    "    print(\"Kelvin to Newton Conversion:\")\n",
    "    for temp_k in kelvin_temperatures:\n",
    "        temp_n = kelvin_to_newton(temp_k)\n",
    "        print(f\"{temp_k} K is equal to {temp_n:.2f} N\")\n",
    "\n",
    "# Example usage:\n",
    "kelvin_temperatures = [100, 200, 300, 400, 500]\n",
    "convert_and_print_temperatures(kelvin_temperatures)"
   ]
  },
  {
   "cell_type": "markdown",
   "id": "466fef71-4b4f-497d-a4f9-3eb2666e2900",
   "metadata": {},
   "source": [
    "Now let's try create a function that classifes tempartures into five classes.\n",
    "\n",
    "Let's try this prompt:\n",
    "\n",
    "\"Create a python function that classifies an input temperature to five classes\"\n"
   ]
  },
  {
   "cell_type": "code",
   "execution_count": 13,
   "id": "809da3c9-c2c1-45c2-bbe2-cfef385e11fa",
   "metadata": {
    "tags": []
   },
   "outputs": [],
   "source": [
    "def create_temperature_classifier():\n",
    "    def classify_temperature(temperature):\n",
    "        if temperature < 0:\n",
    "            return \"Below Freezing\"\n",
    "        elif 0 <= temperature < 20:\n",
    "            return \"Cold\"\n",
    "        elif 20 <= temperature < 40:\n",
    "            return \"Cool\"\n",
    "        elif 40 <= temperature < 60:\n",
    "            return \"Moderate\"\n",
    "        elif 60 <= temperature < 80:\n",
    "            return \"Warm\"\n",
    "        else:\n",
    "            return \"Hot\"\n",
    "\n",
    "    return classify_temperature"
   ]
  },
  {
   "cell_type": "markdown",
   "id": "3435c49d-33dd-429e-a8f4-d84b2db09cee",
   "metadata": {},
   "source": [
    "This is a starnge solution using an unnecesssary nested function. It is actually creating 6 classes isntead of 5.And -60 and -1 are put into the same class. But let's see how it works:"
   ]
  },
  {
   "cell_type": "code",
   "execution_count": 8,
   "id": "8f2dc810-2a8e-4b86-9fbb-37a74ccc2dcf",
   "metadata": {
    "tags": []
   },
   "outputs": [
    {
     "name": "stdout",
     "output_type": "stream",
     "text": [
      "The temperature 35°C is classified as Cool\n"
     ]
    }
   ],
   "source": [
    "classify_temp = create_temperature_classifier()\n",
    "temperature = 35\n",
    "category = classify_temp(temperature)\n",
    "print(f\"The temperature {temperature}°C is classified as {category}\")"
   ]
  },
  {
   "cell_type": "markdown",
   "id": "7d196b34-a864-40b3-84ec-e21bfb7e09ef",
   "metadata": {},
   "source": [
    "Why not only this:"
   ]
  },
  {
   "cell_type": "code",
   "execution_count": null,
   "id": "a4957565-eb19-4e7c-bfac-ea933c70a61c",
   "metadata": {},
   "outputs": [],
   "source": [
    "def classify_temperature(temperature):\n",
    "    if temperature < 0:\n",
    "        return \"Below Freezing\"\n",
    "    elif 0 <= temperature < 20:\n",
    "        return \"Cold\"\n",
    "    elif 20 <= temperature < 40:\n",
    "        return \"Cool\"\n",
    "    elif 40 <= temperature < 60:\n",
    "        return \"Moderate\"\n",
    "    elif 60 <= temperature < 80:\n",
    "        return \"Warm\"\n",
    "    else:\n",
    "        return \"Hot\""
   ]
  },
  {
   "cell_type": "code",
   "execution_count": 15,
   "id": "24bb7725-6c7b-4f58-87ed-422c7329bb74",
   "metadata": {
    "tags": []
   },
   "outputs": [
    {
     "name": "stdout",
     "output_type": "stream",
     "text": [
      "The temperature -1°C is classified as Below Freezing\n",
      "The temperature -60°C is classified as Below Freezing\n"
     ]
    }
   ],
   "source": [
    "temperature1 = -1\n",
    "temperature2 = -60\n",
    "category1 = classify_temp(temperature1)\n",
    "category2 = classify_temp(temperature2)\n",
    "print(f\"The temperature {temperature1}°C is classified as {category1}\")\n",
    "print(f\"The temperature {temperature2}°C is classified as {category2}\")"
   ]
  },
  {
   "cell_type": "markdown",
   "id": "136db3c1-9e93-4b89-af56-cdc2c8cd1a46",
   "metadata": {},
   "source": [
    "# Privacy matters\n",
    "\n",
    "It's important to exercise caution when sharing personal or sensitive information with AI models like ChatGPT. While these models are designed to provide helpful information and engage in conversations, they don't have the ability to understand the implications of sharing sensitive data or guarantee complete privacy. Avoid sharing confidential information such as personal identification numbers, passwords, financial details, or any data that could compromise your privacy or security. Always remember that interactions with AI should be treated as public, and it's best to prioritize your privacy and safety online."
   ]
  },
  {
   "cell_type": "markdown",
   "id": "def3dade-6cc6-4612-a878-dbe504601e44",
   "metadata": {},
   "source": [
    "# Conclusion\n",
    "\n",
    "ChatGPT ,as an example of a LLM, can be a useful tool for creating parts of code when used with clear and specific prompts. Good prompts may yield useful code, while vague or unclear prompts usually result in unhelpful or wrong responses. Remember to be aware of ChatGPT's limitations and thoroughly review the generated code to ensure it meets your requirements and standards.\n",
    "ChatGPT has its limitations, and it's important to be aware of them:\n",
    "\n",
    "* Lack of Context: ChatGPT generates code based on the provided prompt, but it may not understand the broader context of your project or requirements.\n",
    "* Complex Logic: While ChatGPT can handle simple functions well, it may struggle with complex logic, intricate algorithms, or code that requires domain-specific knowledge.\n",
    "* Testing: Always thoroughly test the code generated by ChatGPT to ensure it functions as expected and doesn't have vulnerabilities.\n",
    "* Security: Be cautious when using ChatGPT to generate code for security-critical applications, as it may not consider all security risks.\n",
    "\n",
    "AI models can help you with certain tasks but be cautious with how you use them. The results can vary significantly depending on your prompt. Where there is nor information or context provided, the model makes assumptions which may not be accurate. And remember not to fully trust the result, AIs are smart but they DO make mistakes sometimes.  "
   ]
  }
 ],
 "metadata": {
  "kernelspec": {
   "display_name": "Python 3 (ipykernel)",
   "language": "python",
   "name": "python3"
  },
  "language_info": {
   "codemirror_mode": {
    "name": "ipython",
    "version": 3
   },
   "file_extension": ".py",
   "mimetype": "text/x-python",
   "name": "python",
   "nbconvert_exporter": "python",
   "pygments_lexer": "ipython3",
   "version": "3.10.12"
  }
 },
 "nbformat": 4,
 "nbformat_minor": 5
}
